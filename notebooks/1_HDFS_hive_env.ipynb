{
 "cells": [
  {
   "cell_type": "markdown",
   "id": "d253bec0-c318-4e85-935f-bed7f2e0c049",
   "metadata": {},
   "source": [
    "# Explore the data files in HDFS "
   ]
  },
  {
   "cell_type": "markdown",
   "id": "6d0481e0-747a-44a6-956e-9a604e9f8290",
   "metadata": {},
   "source": [
    "Use ***kinit Username*** to access hdfs \n",
    "\n",
    "This whole initialization of the environment should be runned once as the tables used for spark are stored in HDFS and queried with HIVE \n",
    "\n",
    "Run once "
   ]
  },
  {
   "cell_type": "code",
   "execution_count": 1,
   "id": "5939c8af-2b03-42d2-8c9b-6a96ace65f98",
   "metadata": {},
   "outputs": [
    {
     "name": "stdout",
     "output_type": "stream",
     "text": [
      "adnguyen\n"
     ]
    }
   ],
   "source": [
    "echo ${USERNAME}"
   ]
  },
  {
   "cell_type": "markdown",
   "id": "3ee31834-73cc-4a89-85e6-11ea825089ec",
   "metadata": {},
   "source": [
    "### This first part is just used as exploration of HDFS to find the files to be used.\n",
    "You can skip this part if you already know where the data is stored "
   ]
  },
  {
   "cell_type": "code",
   "execution_count": 2,
   "id": "35074f5d-6d4f-4d1e-9870-018c5322b89f",
   "metadata": {},
   "outputs": [
    {
     "name": "stdout",
     "output_type": "stream",
     "text": [
      "Found 6 items\n",
      "drwxrwxrwx   - hdfs hdfs          0 2023-05-10 13:24 /data/sbb/part_orc/timetables/calendar\n",
      "drwxrwxrwx   - hdfs hdfs          0 2023-05-10 12:13 /data/sbb/part_orc/timetables/routes\n",
      "drwxrwxrwx   - hdfs hdfs          0 2023-05-10 13:08 /data/sbb/part_orc/timetables/stop_times\n",
      "drwxrwxrwx   - hdfs hdfs          0 2023-05-10 17:45 /data/sbb/part_orc/timetables/stops\n",
      "drwxrwxrwx   - hdfs hdfs          0 2023-05-10 16:38 /data/sbb/part_orc/timetables/transfers\n",
      "drwxrwxrwx   - hdfs hdfs          0 2023-05-10 12:23 /data/sbb/part_orc/timetables/trips\n"
     ]
    }
   ],
   "source": [
    "# The data to be used\n",
    "hdfs dfs -ls /data/sbb/part_orc/timetables"
   ]
  },
  {
   "cell_type": "code",
   "execution_count": 3,
   "id": "e8bd1d7b-6f05-44a7-8827-5f154b681c62",
   "metadata": {},
   "outputs": [
    {
     "name": "stdout",
     "output_type": "stream",
     "text": [
      "Found 6 items\n",
      "drwxrwxrwx   - hdfs hdfs          0 2023-04-12 10:29 /data/sbb/part_orc/istdaten/year=2018\n",
      "drwxrwxrwx   - hdfs hdfs          0 2023-04-12 10:29 /data/sbb/part_orc/istdaten/year=2019\n",
      "drwxrwxrwx   - hdfs hdfs          0 2023-04-12 10:29 /data/sbb/part_orc/istdaten/year=2020\n",
      "drwxrwxrwx   - hdfs hdfs          0 2023-04-12 10:29 /data/sbb/part_orc/istdaten/year=2021\n",
      "drwxrwxrwx   - hdfs hdfs          0 2023-04-12 10:29 /data/sbb/part_orc/istdaten/year=2022\n",
      "drwxrwxrwx   - hdfs hdfs          0 2023-04-12 10:29 /data/sbb/part_orc/istdaten/year=2023\n"
     ]
    }
   ],
   "source": [
    "hdfs dfs -ls /data/sbb/part_orc/istdaten"
   ]
  },
  {
   "cell_type": "code",
   "execution_count": 4,
   "id": "5278e31e-5dd9-4d3a-84f6-44513054a82a",
   "metadata": {},
   "outputs": [
    {
     "name": "stdout",
     "output_type": "stream",
     "text": [
      "Found 6 items\n",
      "drwxrwxrwx   - hdfs hdfs          0 2023-05-10 13:24 /data/sbb/part_orc/timetables/calendar\n",
      "drwxrwxrwx   - hdfs hdfs          0 2023-05-10 12:13 /data/sbb/part_orc/timetables/routes\n",
      "drwxrwxrwx   - hdfs hdfs          0 2023-05-10 13:08 /data/sbb/part_orc/timetables/stop_times\n",
      "drwxrwxrwx   - hdfs hdfs          0 2023-05-10 17:45 /data/sbb/part_orc/timetables/stops\n",
      "drwxrwxrwx   - hdfs hdfs          0 2023-05-10 16:38 /data/sbb/part_orc/timetables/transfers\n",
      "drwxrwxrwx   - hdfs hdfs          0 2023-05-10 12:23 /data/sbb/part_orc/timetables/trips\n"
     ]
    }
   ],
   "source": [
    "hdfs dfs -ls /data/sbb/part_orc/timetables"
   ]
  },
  {
   "cell_type": "markdown",
   "id": "630b2fae-4e20-4007-84c9-a25d317702df",
   "metadata": {},
   "source": [
    "# Initializing database "
   ]
  },
  {
   "cell_type": "markdown",
   "id": "55530a4e-17dc-4136-9384-08154c0fb17b",
   "metadata": {},
   "source": [
    "Only run this to recunstruct databse, if the database is already in order avoid this part. \n",
    "Run if you have problems with `2_Data_prep`. \n",
    "If you already have your database skip this part and go to the next Notebook.\n",
    "<div class=\"alert alert-warning\">\n",
    "<strong>Stop here before going on:</strong> \n",
    "   Just run this query if you don't have the database yet, as it may erease the tables you already have and reconstruct the database.\n",
    "</div>"
   ]
  },
  {
   "cell_type": "code",
   "execution_count": 5,
   "id": "feba5be8-91ad-4be2-a4c9-b8ac2629765f",
   "metadata": {},
   "outputs": [
    {
     "name": "stdout",
     "output_type": "stream",
     "text": [
      "Connecting to jdbc:hive2://iccluster044.iccluster.epfl.ch:2181,iccluster045.iccluster.epfl.ch:2181,iccluster042.iccluster.epfl.ch:2181/;serviceDiscoveryMode=zooKeeper;zooKeeperNamespace=hiveserver2\n",
      "Connected to: Apache Hive (version 3.1.3000.7.1.8.0-801)\n",
      "Driver: Hive JDBC (version 2.3.9)\n",
      "Transaction isolation: TRANSACTION_REPEATABLE_READ\n",
      "INFO  : Compiling command(queryId=hive_20230523093656_70618e27-caf8-4fd9-9485-22dd0c3df392): SHOW DATABASES LIKE 'adnguyen'\n",
      "INFO  : Semantic Analysis Completed (retrial = false)\n",
      "INFO  : Created Hive schema: Schema(fieldSchemas:[FieldSchema(name:database_name, type:string, comment:from deserializer)], properties:null)\n",
      "INFO  : Completed compiling command(queryId=hive_20230523093656_70618e27-caf8-4fd9-9485-22dd0c3df392); Time taken: 0.008 seconds\n",
      "INFO  : Executing command(queryId=hive_20230523093656_70618e27-caf8-4fd9-9485-22dd0c3df392): SHOW DATABASES LIKE 'adnguyen'\n",
      "INFO  : Starting task [Stage-0:DDL] in serial mode\n",
      "INFO  : Completed executing command(queryId=hive_20230523093656_70618e27-caf8-4fd9-9485-22dd0c3df392); Time taken: 0.021 seconds\n",
      "INFO  : OK\n",
      "+----------------+\n",
      "| database_name  |\n",
      "+----------------+\n",
      "| adnguyen       |\n",
      "+----------------+\n",
      "1 row selected (0.139 seconds)\n",
      "Error: Error while compiling statement: FAILED: ParseException line 1:15 cannot recognize input near ''adnguyen'' '<EOF>' '<EOF>' in show statement (state=42000,code=40000)\n",
      "Closing: 0: jdbc:hive2://iccluster044.iccluster.epfl.ch:2181,iccluster045.iccluster.epfl.ch:2181,iccluster042.iccluster.epfl.ch:2181/;serviceDiscoveryMode=zooKeeper;zooKeeperNamespace=hiveserver2\n"
     ]
    },
    {
     "ename": "",
     "evalue": "1",
     "output_type": "error",
     "traceback": []
    }
   ],
   "source": [
    "beeline -u \"${HIVE_JDBC_URL}\" -e \"SHOW DATABASES LIKE '${USERNAME}';\n",
    "                                  SHOW TABLES IN '${USERNAME}';\n",
    "                                  DROP DATABASE IF EXISTS ${USERNAME} CASCADE;\n",
    "                                  SHOW DATABASES LIKE '${USERNAME}';\""
   ]
  },
  {
   "cell_type": "code",
   "execution_count": 6,
   "id": "65646c3a-07ff-41bb-900d-642219d150ef",
   "metadata": {},
   "outputs": [
    {
     "name": "stdout",
     "output_type": "stream",
     "text": [
      "Found 3 items\n",
      "drwxrwx---+  - adnguyen adnguyen          0 2023-05-14 10:21 /user/adnguyen/final_project\n",
      "drwxrwx---+  - adnguyen adnguyen          0 2023-05-14 14:19 /user/adnguyen/hive\n",
      "drwxrwxr-x+  - adnguyen adnguyen          0 2023-04-11 22:07 /user/adnguyen/work\n",
      "Deleted /user/adnguyen/hive\n",
      "Found 3 items\n",
      "drwxrwx---+  - adnguyen adnguyen          0 2023-05-14 10:21 /user/adnguyen/final_project\n",
      "drwxrwx---+  - adnguyen adnguyen          0 2023-05-23 07:37 /user/adnguyen/hive\n",
      "drwxrwxr-x+  - adnguyen adnguyen          0 2023-04-11 22:07 /user/adnguyen/work\n"
     ]
    }
   ],
   "source": [
    "hdfs dfs -ls \"/user/${USERNAME}\"\n",
    "\n",
    "hdfs dfs -rm -r -f -skipTrash \"/user/${USERNAME:-nobody}/hive\"\n",
    "hdfs dfs -rm -r -f -skipTrash \"/user/${USERNAME:-nobody}/.Trash\"\n",
    "\n",
    "hdfs dfs -mkdir -p                                /user/${USERNAME:-nobody}/hive\n",
    "hdfs dfs -setfacl    -m group::r-x                /user/${USERNAME:-nobody}\n",
    "hdfs dfs -setfacl    -m other::---                /user/${USERNAME:-nobody}\n",
    "hdfs dfs -setfacl    -m default:group::r-x        /user/${USERNAME:-nobody}\n",
    "hdfs dfs -setfacl    -m default:other::---        /user/${USERNAME:-nobody}\n",
    "hdfs dfs -setfacl -R -m group::r-x                /user/${USERNAME:-nobody}/hive\n",
    "hdfs dfs -setfacl -R -m other::---                /user/${USERNAME:-nobody}/hive\n",
    "hdfs dfs -setfacl -R -m default:group::r-x        /user/${USERNAME:-nobody}/hive\n",
    "hdfs dfs -setfacl -R -m default:other::---        /user/${USERNAME:-nobody}/hive\n",
    "hdfs dfs -setfacl    -m user:hive:rwx             /user/${USERNAME:-nobody}/hive\n",
    "hdfs dfs -setfacl    -m default:user:hive:rwx     /user/${USERNAME:-nobody}/hive\n",
    "\n",
    "hdfs dfs -ls \"/user/${USERNAME}\""
   ]
  },
  {
   "cell_type": "code",
   "execution_count": 7,
   "id": "5ac8ad1a-7b22-4811-a928-537064ab6513",
   "metadata": {},
   "outputs": [],
   "source": [
    "beeline -u \"${HIVE_JDBC_URL}\" --silent=true -e \"\n",
    "CREATE DATABASE IF NOT EXISTS ${USERNAME:-nobody} LOCATION '/user/${USERNAME:-nobody}/hive';\n",
    "\n",
    "USE ${USERNAME:-nobody};\""
   ]
  },
  {
   "cell_type": "code",
   "execution_count": null,
   "id": "a5d16cc0-5adc-45e8-b4fd-9d3cd64d13b6",
   "metadata": {},
   "outputs": [],
   "source": []
  }
 ],
 "metadata": {
  "kernelspec": {
   "display_name": "Bash",
   "language": "bash",
   "name": "bash"
  },
  "language_info": {
   "codemirror_mode": "shell",
   "file_extension": ".sh",
   "mimetype": "text/x-sh",
   "name": "bash"
  }
 },
 "nbformat": 4,
 "nbformat_minor": 5
}
