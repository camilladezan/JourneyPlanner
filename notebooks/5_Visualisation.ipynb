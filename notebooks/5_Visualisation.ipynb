{
 "cells": [
  {
   "cell_type": "markdown",
   "id": "82bc133f-bba2-408a-ac66-129547c20d64",
   "metadata": {},
   "source": [
    "# Run CSA Algorithm\n",
    "We should now have all the data needed to run the CSA algorithm. We start by loading the connections table, the footpaths tables, then by calling the CSA algorithm"
   ]
  },
  {
   "cell_type": "code",
   "execution_count": 1,
   "id": "e10a2a7c-8f2c-44a5-873f-bda396514935",
   "metadata": {},
   "outputs": [],
   "source": [
    "# In this step we are loading the libriaries we will use for this part of the project\n",
    "import os\n",
    "import re\n",
    "import pandas as pd\n",
    "from IPython import get_ipython\n",
    "import matplotlib.pyplot as plt\n",
    "import warnings\n",
    "import numpy as np\n",
    "import getpass\n",
    "import pyspark\n",
    "import datetime as dt\n",
    "\n",
    "pd.set_option(\"display.max_columns\", 50)\n",
    "warnings.simplefilter(action='ignore', category=UserWarning)\n",
    "%matplotlib inline"
   ]
  },
  {
   "cell_type": "code",
   "execution_count": 2,
   "id": "52ebee8d-057f-477a-86e7-6c91428543f3",
   "metadata": {},
   "outputs": [],
   "source": [
    "from collections import defaultdict\n",
    "from datetime import time, datetime, date\n",
    "import pandas as pd\n",
    "\n",
    "def init_algo() -> [pd.DataFrame,pd.DataFrame,pd.DataFrame,pd.DataFrame,pd.DataFrame,pd.DataFrame,list]:\n",
    "    \"\"\"\n",
    "    Initiates the algorithm : Loads all daily connections tables, footpaths and trips list.\n",
    "    \"\"\"\n",
    "    monday = pd.read_csv(f\"../data/sbb_connections_monday_perc.csv\")\n",
    "    tuesday = pd.read_csv(f\"../data/sbb_connections_tuesday_perc.csv\")\n",
    "    wednesday = pd.read_csv(f\"../data/sbb_connections_wednesday_perc.csv\")\n",
    "    thursday = pd.read_csv(f\"../data/sbb_connections_thursday_perc.csv\")\n",
    "    friday = pd.read_csv(f\"../data/sbb_connections_friday_perc.csv\")\n",
    "    footpaths = pd.read_csv(f\"../data/sbb_zurich_short_walks.csv\")\n",
    "    stops = pd.read_csv(f\"../data/sbb_stations_zurich.csv\")\n",
    "\n",
    "    return monday, tuesday, wednesday, thursday, friday, footpaths, stops\n",
    "monday, tuesday, wednesday, thursday, friday, footpaths, stops = init_algo()"
   ]
  },
  {
   "cell_type": "code",
   "execution_count": 3,
   "id": "f198c042-cad3-433d-ab27-a26804078ec6",
   "metadata": {},
   "outputs": [],
   "source": [
    "import datetime as dt\n",
    "\n",
    "def add_time(timestamp : str, duration : int) -> dt.time : \n",
    "    \"\"\"\n",
    "    Adds duration minutes to timestamp\n",
    "    returns : addition between a time (HH:MM:SS) and a duration in minutes\n",
    "    \n",
    "    timestamp : a time of day (HH:MM:SS)\n",
    "    duration  : minutes\n",
    "    \"\"\"\n",
    "    delta = dt.timedelta(minutes=duration)\n",
    "    dummy_date = dt.date.today()\n",
    "    return (dt.datetime.combine(dummy_date, dt.datetime.strptime(timestamp, '%H:%M:%S').time()) + delta).time().strftime(\"%H:%M:%S\")"
   ]
  },
  {
   "cell_type": "code",
   "execution_count": 4,
   "id": "e0a06833-2011-4c8a-af52-869c736b498b",
   "metadata": {},
   "outputs": [],
   "source": [
    "def get_coords(station : str) -> list:\n",
    "    \"\"\"\n",
    "    Gives coordinates of a station\n",
    "    returns : list of [\"lat\",\"lon\"]\n",
    "\n",
    "    station : station name\n",
    "    \"\"\"\n",
    "    global stops\n",
    "    return stops.loc[stops['stop_name'] == station][[\"stop_lat\",\"stop_lon\"]].values.tolist()[0]"
   ]
  },
  {
   "cell_type": "code",
   "execution_count": 5,
   "id": "f542ee37-cb59-4843-8681-72dd9cccecfb",
   "metadata": {},
   "outputs": [],
   "source": [
    "def recover_path(S : pd.DataFrame, starting_stop : str, end_stop : str, log) -> list:\n",
    "    \"\"\"\n",
    "    Recovers the fastest path found by CSA algorithm.\n",
    "    Algorithmically, basically iteration along a (kind of) linked list determined by starting stop and end stop.\n",
    "\n",
    "    Returns       :  list comprised of the legs of the journey\n",
    "\n",
    "    S             : table comprised of the latest departure time for each stop, with the associated connection\n",
    "    starting_stop : start of the journey of the user\n",
    "    end_stop      : end of the journey of the user\n",
    "    \"\"\"\n",
    "    path = []\n",
    "    current_leg = S[starting_stop]\n",
    "    prev_trip_id = current_leg[\"trip_id\"]\n",
    "    if prev_trip_id != \"Walking\":\n",
    "        transport_name, transport_line = current_leg[\"route_desc\"],current_leg[\"route_short_name\"]\n",
    "    else:\n",
    "        transport_name, transport_line = \"Walking\", \"\"\n",
    "    prev_dept_station = current_leg[\"departure_station\"]\n",
    "    prev_dept_time = current_leg[\"departure_time\"]\n",
    "    prev_arr_time = current_leg[\"arrival_time\"]\n",
    "    prev_arr_station = current_leg[\"arrival_station\"]\n",
    "    if log:\n",
    "        print(current_leg)\n",
    "        \n",
    "    while current_leg[\"trip_id\"] is not None : #while we haven't arrived yet\n",
    "        current_trip_id = current_leg[\"trip_id\"]\n",
    "        if current_trip_id != prev_trip_id:\n",
    "            path.append([prev_trip_id, transport_name, transport_line, prev_dept_station, \\\n",
    "                         *get_coords(prev_dept_station), prev_dept_time, \\\n",
    "                         prev_arr_station, *get_coords(prev_arr_station), prev_arr_time]) \n",
    "            prev_trip_id = current_trip_id\n",
    "            prev_dept_station = current_leg[\"departure_station\"]\n",
    "            prev_dept_time = current_leg[\"departure_time\"]\n",
    "            prev_arr_time = current_leg[\"arrival_time\"]\n",
    "            if prev_trip_id != \"Walking\":\n",
    "                transport_name, transport_line = current_leg[\"route_desc\"],current_leg[\"route_short_name\"]\n",
    "            else:\n",
    "                transport_name, transport_line = \"Walking\", \"\"\n",
    "        prev_arr_station = current_leg[\"arrival_station\"]\n",
    "        prev_arr_time = current_leg[\"arrival_time\"]\n",
    "        current_leg = S[current_leg[\"arrival_station\"]] #we go to the connection of the next leg. This is like jumping to next linked list item\n",
    "        \n",
    "        if log:\n",
    "            print(current_leg)\n",
    "\n",
    "    path.append([prev_trip_id,transport_name, transport_line, prev_dept_station, \\\n",
    "                         *get_coords(prev_dept_station), prev_dept_time, \\\n",
    "                         prev_arr_station, *get_coords(prev_arr_station), prev_arr_time]) \n",
    "    return path"
   ]
  },
  {
   "cell_type": "code",
   "execution_count": 2,
   "id": "b85aa8e2-a46c-4326-9723-b72f8302640c",
   "metadata": {},
   "outputs": [],
   "source": [
    "def CSA(starting_stop : str, arrival_stop : str, arrival_time: str, day : str, log : bool, prob : int) -> list : \n",
    "    '''\n",
    "    Connections Scan Algorithm to maximize the starting time\n",
    "\n",
    "    Return: List of connections which are each quintuples :  \n",
    "            [means of transport (trip ID or 'Walking'), starting time (datetime), \n",
    "            starting_stop (name), arriving_time (datetime), arriving stop (name)]\n",
    "            according to the paper\n",
    "\n",
    "    starting_stop : Starting stop for algorithm\n",
    "    arrival_stop  : End stop for algorithm\n",
    "    arrival_time  : Demanded max arrival_time by the user\n",
    "    day           : Day of week\n",
    "    prob          : Confidence percentile (100 = delays not taken into account)\n",
    "    '''\n",
    "    global monday, tuesday, wednesday, thursday, friday, footpaths\n",
    "    delta = 1 #minimum time to transfer in station\n",
    "    percentile = {95 : \"95_perc_arrival\", 90 : \"90_perc_arrival\",85 : \"85_perc_arrival\", 80 : \"80_perc_arrival\",75 : \"75_perc_arrival\", 70 : \"70_perc_arrival\",\\\n",
    "                  65 : \"65_perc_arrival\", 60 : \"60_perc_arrival\",55 : \"55_perc_arrival\", 50 : \"50_perc_arrival\"}\n",
    "    if prob == 100:\n",
    "        arrival_index = \"arrival_time\"\n",
    "    else:\n",
    "        arrival_index = percentile[prob]\n",
    "    daily_connections = {\"monday\" : monday, \"tuesday\" : tuesday, \n",
    "                         \"wednesday\" : wednesday, \"thursday\" : thursday, \"friday\" : friday}\n",
    "    weekday_table = daily_connections[day]\n",
    "    # Set all S[x] to -infty and T[x] to false\n",
    "    # S : { stop : [trip_id, tentative_start_time, start_stop, arrive_time, arrive_stop]}\n",
    "    S = defaultdict(lambda: pd.Series(data = [None, time.min.strftime(\"%H:%M:%S\"), None, time.max.strftime(\"%H:%M:%S\"), None],\n",
    "                                      index = ['trip_id', 'departure_time', 'departure_station', 'arrival_time', 'arrival_station']))\n",
    "    T = defaultdict(lambda : False)\n",
    "    S[arrival_stop] = pd.Series(data = [None, arrival_time, None, time.max.strftime(\"%H:%M:%S\"), None], \n",
    "                                index = ['trip_id', 'departure_time', 'departure_station', 'arrival_time', 'arrival_station'])\n",
    "\n",
    "    # For all footpaths arriving from the arrival stop, set time as per algorithm\n",
    "    for i, footpath in footpaths[footpaths[\"arrival\"] == arrival_stop].iterrows():\n",
    "        S[footpath[\"departure\"]] = pd.Series(data = ['Walking', add_time(arrival_time,-footpath['duration']),footpath['departure'], arrival_time, arrival_stop],\n",
    "                              index = ['trip_id', 'departure_time', 'departure_station', 'arrival_time', 'arrival_station'])\n",
    "\n",
    "    # Take all connections via means of transport which arrive before wanted arrival time\n",
    "\n",
    "    weekday_table = weekday_table[weekday_table['arrival_time']<arrival_time]\n",
    "    # Core of the algorithm\n",
    "    for i, connection in weekday_table.iterrows():\n",
    "        # End conditition according to algorithm\n",
    "        if S[starting_stop][\"departure_time\"] >= connection[\"departure_time\"]:\n",
    "            break \n",
    "        #If the connection is feasible, i.e. either we are on the trip that has the connection\n",
    "        # or we depart after departure time + delta (min time of transfer)\n",
    "        if T[connection[\"trip_id\"]] or \\\n",
    "        (S[connection[\"arrival_station\"]][\"departure_time\"] >= add_time(connection[arrival_index],delta)):\n",
    "            # Check if the connection that allows the latest departure time is the current one\n",
    "            if S[connection[\"departure_station\"]][\"departure_time\"] < connection[\"departure_time\"]:\n",
    "                T[connection[\"trip_id\"]] = True\n",
    "                S[connection[\"departure_station\"]] = connection\n",
    "                # We add footpath information for nearby stations\n",
    "                for _, footpath in footpaths[footpaths[\"arrival\"] == connection[\"departure_station\"]].iterrows():\n",
    "                    if S[footpath[\"departure\"]][\"departure_time\"]< add_time(connection[\"departure_time\"],-footpath[\"duration\"]):\n",
    "                        S[footpath[\"departure\"]] = pd.Series(data =['Walking', add_time(connection[\"departure_time\"],-footpath[\"duration\"]),\\\n",
    "                                                                    footpath['departure'], connection[\"departure_time\"], footpath[\"arrival\"]],\n",
    "                                  index = ['trip_id', 'departure_time', 'departure_station', 'arrival_time', 'arrival_station'])\n",
    "    if S[starting_stop][\"trip_id\"] is not None:\n",
    "        return recover_path(S, starting_stop, arrival_stop, log)\n",
    "    else:\n",
    "        return []"
   ]
  },
  {
   "cell_type": "code",
   "execution_count": 1,
   "id": "b81f31e6-d9c7-4026-af76-086a5c893046",
   "metadata": {},
   "outputs": [],
   "source": [
    "def run(start_station : str, end_station : str, arrival_time : str, day : str, prob = 100, log = False) -> list:\n",
    "    \"\"\"\n",
    "    Returns the shortest path in the form of a list of lists(transport, line_name, departure_station, departure_longitude, departure_latitude,\n",
    "    departure_time, arrival_station, arrival_longitude, arrival_latitude, arrival_time)\n",
    "\n",
    "    start_station : starting station of journey\n",
    "    end_station   : ending station of journey\n",
    "    arrival_time  : maximum arrival time\n",
    "    day           : day of the week\n",
    "    prob          : confidence interval (100 = delays not taken into account)\n",
    "    log           : print logs of shortest path         \n",
    "    \"\"\"\n",
    "    return CSA(start_station, end_station, arrival_time, day, log, prob)\n",
    "        "
   ]
  },
  {
   "cell_type": "markdown",
   "id": "169bd483-0f03-468d-9fce-bd451f35e295",
   "metadata": {},
   "source": [
    "# Results visualization "
   ]
  },
  {
   "cell_type": "markdown",
   "id": "1816f3ad-7e12-4f53-8dc6-9cba235db4ed",
   "metadata": {},
   "source": [
    "This UI graphic interface allows the user to search for a desired path, specifing the arrival time and the date of the journey. \n",
    "For the sake of visualisation we use some sample journeys that will display the result of the CSA algorithm implemented in the previous part"
   ]
  },
  {
   "cell_type": "code",
   "execution_count": 8,
   "id": "76921b3b-6126-4b8e-bb5c-b2c4c988e73e",
   "metadata": {},
   "outputs": [],
   "source": [
    "import matplotlib.pyplot as plt\n",
    "import pandas as pd \n",
    "import numpy as np \n",
    "import plotly.express as px\n",
    "import plotly.graph_objects as go \n",
    "from ipywidgets import interactive, widgets, interact, BoundedIntText, Layout , Button, Label, HBox, GridBox, VBox, HTML\n",
    "import datetime"
   ]
  },
  {
   "cell_type": "markdown",
   "id": "8dc94faa-1391-4e75-8786-fce9d5d2930c",
   "metadata": {},
   "source": [
    "## Map generating function"
   ]
  },
  {
   "cell_type": "code",
   "execution_count": 9,
   "id": "c44870a4-9501-4ab8-9d53-b217a9f9cc6c",
   "metadata": {},
   "outputs": [],
   "source": [
    "import random\n",
    "def generate_map(paths : list):\n",
    "    \"\"\"\n",
    "    Draws a map from the path output of CSA\n",
    "    paths : recovered path\n",
    "    \"\"\"\n",
    "    fig = go.Figure()\n",
    "    \n",
    "    trans = {\"S\": \"S-Bahn\", \"B\": \"Bus\", \"T\" : \"Tram\", \"FUN\" : \"Funicular\", \"IR\" : \"InterRegio\", \"IC\" : \"InterCity\", \"BAT\" : \"Boat\", \n",
    "             \"RE\" : \"RegioExpress\", \"PB\" : \"Pendelbahn\", \"FAE\" : \"Ferry\", \"EC\" : \"EuroCity\", \"Walking\": \"Walking\"}\n",
    "    for connection in paths:\n",
    "        fig.add_trace(go.Scattermapbox(\n",
    "            mode=\"lines\",\n",
    "            lon=[connection[5], connection[9]],\n",
    "            lat=[connection[4], connection[8]],\n",
    "            line=dict(width=4, color=(\"#%06x\" % random.randint(0, 0xFFFFFF))),\n",
    "            name=trans[connection[1]]\n",
    "        ))\n",
    "\n",
    "        fig.add_trace(go.Scattermapbox(\n",
    "            mode=\"markers\",\n",
    "            lon=[connection[5]],\n",
    "            lat=[connection[4]],\n",
    "            hoverinfo='text',\n",
    "            hovertext=[connection[3]],\n",
    "            showlegend=False,\n",
    "            marker={'size': 15, 'color': 'black'}\n",
    "        ))\n",
    "        temp_lat, temp_lon, temp_name = connection[8] , connection[9], connection[7]\n",
    "            \n",
    "    fig.update_layout(\n",
    "        title='Recommended Journey',\n",
    "        title_font=dict(size=24),\n",
    "        mapbox=dict(\n",
    "            center=dict(\n",
    "                lon=8.540212,\n",
    "                lat=47.378178\n",
    "            ),\n",
    "            zoom=10,\n",
    "            style='open-street-map'\n",
    "        ),\n",
    "        width=1000,\n",
    "        height=600\n",
    "    )\n",
    "\n",
    "    # Add the last point marker\n",
    "    last_lat = temp_lat\n",
    "    last_lon = temp_lon\n",
    "    fig.add_trace(go.Scattermapbox(\n",
    "        mode=\"markers\",\n",
    "        lon=[last_lon],\n",
    "        lat=[last_lat],\n",
    "        showlegend=False,\n",
    "        hoverinfo='text',\n",
    "        hovertext=[temp_name],\n",
    "        marker={'size': 15, 'color': 'black'}\n",
    "    ))\n",
    "\n",
    "    fig.show()"
   ]
  },
  {
   "cell_type": "markdown",
   "id": "bf784ef0-200f-415e-ad3b-1c9c8299d441",
   "metadata": {},
   "source": [
    "## Widget planner interface "
   ]
  },
  {
   "cell_type": "code",
   "execution_count": 23,
   "id": "4ed95df8-b7b8-415d-ad65-782c79d453d9",
   "metadata": {},
   "outputs": [],
   "source": [
    "class Planner:\n",
    "    def __init__(self, dep_station: str, arriv_station: str, date: datetime.date, hours: int, minutes: int, conf: int):\n",
    "        self.dep_station = dep_station\n",
    "        self.arriv_station = arriv_station\n",
    "        self.date = date\n",
    "        self.hours = hours\n",
    "        self.minutes = minutes\n",
    "        self.conf = conf\n",
    "                \n",
    "    def build(self):\n",
    "        # Get stops names from previously extracted dataframe \n",
    "        stops_names = stops[\"stop_name\"].sort_values(ascending=False).unique().tolist()\n",
    "        # create widget elements for the planner \n",
    "        start_combo = widgets.Combobox(value=self.dep_station,\n",
    "                                    placeholder=\"Choose start station\",\n",
    "                                    options = stops_names,\n",
    "                                    description=\"Start : \",\n",
    "                                    ensure_option=True,\n",
    "                                    disabled=False)\n",
    "        end_combo = widgets.Combobox(value=self.arriv_station,\n",
    "                                    placeholder=\"Choose start station\",\n",
    "                                    options = stops_names,\n",
    "                                    description=\"Start : \",\n",
    "                                    ensure_option=True,\n",
    "                                    disabled=False)\n",
    "\n",
    "        prob_slider = widgets.IntSlider(\n",
    "            value=100,\n",
    "            min=50,\n",
    "            max=self.conf,\n",
    "            step=5,\n",
    "            description='Confidence percentile :',\n",
    "            disabled=False,\n",
    "            continuous_update=False,\n",
    "            orientation='horizontal',\n",
    "            readout=True,\n",
    "            readout_format='d'\n",
    "        )\n",
    "\n",
    "        date = widgets.DatePicker(value = self.date)\n",
    "        hours = BoundedIntText(value=self.hours, min=7, max=19, disabled=False, layout=Layout(width=\"50px\"))\n",
    "        minutes  = BoundedIntText(value=self.minutes, min=0, max=59, disabled=False,  layout=Layout(width=\"50px\"))\n",
    "        #search_button = Button(description='Depart', disabled=False, button_style='danger', tooltip='Click here to search for a journey')\n",
    "        days_num = {0:\"monday\", 1:\"tuesday\", 2:\"wednesday\", 3:\"thursday\", 4:\"friday\", 5: \"saturday\", 6:\"sunday\"}\n",
    "        # button action\n",
    "        def display_path(path):\n",
    "            s = \"\"\n",
    "            for connection in path:\n",
    "                if connection[1] in [\"EC\",\"IR\",\"IC\",\"S\"]:\n",
    "                        s+=(f\"{connection[2]} from {connection[3]} at {connection[6]} -> {connection[7]} at {connection[10]} \\n\")\n",
    "                else:\n",
    "                    s+=(f\"{connection[1]}{connection[2]} from {connection[3]} at {connection[6]} -> {connection[7]} at {connection[10]} \\n\")\n",
    "            return s\n",
    "\n",
    "        def on_button_clicked(b):\n",
    "            output.clear_output() \n",
    "            \n",
    "            starting_stop = start_combo.value\n",
    "            arrival_stop=end_combo.value\n",
    "            data = date.value\n",
    "            \n",
    "            day = days_num[date.value.weekday()]\n",
    "            time = datetime.time(hours.value, minutes.value, 0).strftime(\"%H:%M:%S\")\n",
    "            prob = prob_slider.value\n",
    "            \n",
    "            with output:\n",
    "                path = run(starting_stop, arrival_stop, time, day, prob)\n",
    "                fig = generate_map(path)\n",
    "                # fig.show()\n",
    "                print(\"\\nJourney Description:\\n\" + display_path(path)) \n",
    "                \n",
    "\n",
    "        # Create the button\n",
    "        search_button = widgets.Button(description='Search', button_style='danger')\n",
    "        search_button.on_click(on_button_clicked)\n",
    "\n",
    "        # stack items in a box and define the layout \n",
    "        planner_items = [\n",
    "            Label(value='Departure Station'), start_combo,\n",
    "            Label(value='Arrival Station'), end_combo,\n",
    "            Label(value='Pick a date'), date,\n",
    "            Label(value='Pick a percentile'), prob_slider,\n",
    "            Label(value='Time of arrival'), HBox([hours,Label(value=\":\"), minutes]),\n",
    "        ]\n",
    "\n",
    "        grid = GridBox(planner_items, layout=Layout(grid_template_columns=\"repeat(2, 150px)\"))\n",
    "        return VBox([HTML(\"<h1> Where do you want to go? </h1>\"), grid, search_button, HTML(\"Try 100% percentile to get the results without percentiles\")], layout=Layout(padding=\"20px\",width=\"650px\"))\n"
   ]
  },
  {
   "cell_type": "markdown",
   "id": "085497dd-be73-4fe0-8b34-9f5c88d95a5f",
   "metadata": {},
   "source": [
    "## Results Validation"
   ]
  },
  {
   "cell_type": "markdown",
   "id": "ad7b1397-f7d6-4a34-8a40-24334c285981",
   "metadata": {},
   "source": [
    "### 1 - Dietlikon, Zurich Altstetten, 2023/5/31 14:00, no delay confidence"
   ]
  },
  {
   "cell_type": "code",
   "execution_count": 24,
   "id": "f796f1d3-27b7-455b-ac5c-45b786a21ce8",
   "metadata": {},
   "outputs": [
    {
     "data": {
      "application/vnd.jupyter.widget-view+json": {
       "model_id": "cfd6fff62c1f47938a1006b6c667b141",
       "version_major": 2,
       "version_minor": 0
      },
      "text/plain": [
       "VBox(children=(HTML(value='<h1> Where do you want to go? </h1>'), GridBox(children=(Label(value='Departure Sta…"
      ]
     },
     "metadata": {},
     "output_type": "display_data"
    },
    {
     "data": {
      "application/vnd.jupyter.widget-view+json": {
       "model_id": "c89e15a9b75c4a3e88f5f95c3588fc19",
       "version_major": 2,
       "version_minor": 0
      },
      "text/plain": [
       "Output()"
      ]
     },
     "metadata": {},
     "output_type": "display_data"
    }
   ],
   "source": [
    "output = widgets.Output()\n",
    "planner = Planner(\"Dietlikon\", \"Zürich Altstetten\", datetime.date(2023,5,31), hours=14, minutes=0, conf=100).build()\n",
    "display(planner, output)"
   ]
  },
  {
   "cell_type": "markdown",
   "id": "97df54bb-6215-4faa-bd8e-494852476538",
   "metadata": {},
   "source": [
    "Lets compare with Google Map's results now."
   ]
  },
  {
   "cell_type": "markdown",
   "id": "8de3e9ce-c22d-48b0-906f-09f2d893236b",
   "metadata": {},
   "source": [
    "[Here we see the same journey recommend than our algorithm](https://goo.gl/maps/51U1UeCmRQSUK82V8)"
   ]
  },
  {
   "cell_type": "markdown",
   "id": "4aa21833-9662-43ec-a6f5-a4a9f99cd1f3",
   "metadata": {},
   "source": [
    "For this route we have exactly the same journey recommend by Google Maps! :)"
   ]
  },
  {
   "cell_type": "markdown",
   "id": "1c945903-b3e3-4823-ad07-49778b6badd3",
   "metadata": {},
   "source": [
    "### 2 - Pfäffikon ZH, Zollikon, 2023/6/06 9:00, no delay confidence"
   ]
  },
  {
   "cell_type": "code",
   "execution_count": 26,
   "id": "9535d0ae-3c81-4fec-b39c-56268f5d5ccf",
   "metadata": {},
   "outputs": [
    {
     "data": {
      "application/vnd.jupyter.widget-view+json": {
       "model_id": "9248b865605e48c6a7705d7786b3cb2d",
       "version_major": 2,
       "version_minor": 0
      },
      "text/plain": [
       "VBox(children=(HTML(value='<h1> Where do you want to go? </h1>'), GridBox(children=(Label(value='Departure Sta…"
      ]
     },
     "metadata": {},
     "output_type": "display_data"
    },
    {
     "data": {
      "application/vnd.jupyter.widget-view+json": {
       "model_id": "399a0685c318463ca837b17dc60be846",
       "version_major": 2,
       "version_minor": 0
      },
      "text/plain": [
       "Output()"
      ]
     },
     "metadata": {},
     "output_type": "display_data"
    }
   ],
   "source": [
    "output = widgets.Output()\n",
    "planner = Planner(\"Pfäffikon ZH\", \"Zollikon\", datetime.date(2023,6,6), hours=9, minutes=0, conf=100).build()\n",
    "display(planner, output)"
   ]
  },
  {
   "cell_type": "markdown",
   "id": "40b0f926-1f1c-42b5-ba09-afac61770fa8",
   "metadata": {},
   "source": [
    "Lets compare with Google Map's results now. This route has buses, trains, trams and walking pathes which shows that the algorithm is indeed taking into account all means of transport."
   ]
  },
  {
   "cell_type": "markdown",
   "id": "9bcca34b-fc48-4f34-92ae-aace5eb820f5",
   "metadata": {},
   "source": [
    "[This is one of the recommended journey by Google Maps, like ours](https://goo.gl/maps/NkEkXFjAUoFvGBGW7)"
   ]
  },
  {
   "cell_type": "markdown",
   "id": "8cb230e4-9303-4038-b73f-4794bc477ccb",
   "metadata": {},
   "source": [
    "Our journey is not the one recommend by Google Maps as this journey have too much connections, which may disturb the user. \n",
    "One addition we could make in the future to improve our algorithm and make it more user friendly, is to show the \"easier\" journeys first that are similar in travel time and delay probability."
   ]
  },
  {
   "cell_type": "markdown",
   "id": "2951a3d5-540b-47d3-a8de-028a0473db05",
   "metadata": {},
   "source": [
    "### 3 - Dietlikon, Zurich Altstetten, 2023/5/31 14:00, 95% conf"
   ]
  },
  {
   "cell_type": "code",
   "execution_count": 28,
   "id": "c47ca441-90b2-4651-b014-f41f26db7abf",
   "metadata": {},
   "outputs": [
    {
     "data": {
      "application/vnd.jupyter.widget-view+json": {
       "model_id": "d8ab6a11c490469aab97f7283fee67c9",
       "version_major": 2,
       "version_minor": 0
      },
      "text/plain": [
       "VBox(children=(HTML(value='<h1> Where do you want to go? </h1>'), GridBox(children=(Label(value='Departure Sta…"
      ]
     },
     "metadata": {},
     "output_type": "display_data"
    },
    {
     "data": {
      "application/vnd.jupyter.widget-view+json": {
       "model_id": "1accf101944a48d789aeca0a714e065f",
       "version_major": 2,
       "version_minor": 0
      },
      "text/plain": [
       "Output()"
      ]
     },
     "metadata": {},
     "output_type": "display_data"
    }
   ],
   "source": [
    "output = widgets.Output()\n",
    "planner = Planner(\"Dietlikon\", \"Zürich Altstetten\", datetime.date(2023,5,31), hours=14, minutes=0, conf=95).build()\n",
    "display(planner, output)"
   ]
  },
  {
   "cell_type": "markdown",
   "id": "9696279c-8394-4a76-b6b9-84f6dd891c4e",
   "metadata": {},
   "source": [
    "In this case running with 95% confidence intervals, we get a different route as output. \n",
    "We got this route before (no confidence):"
   ]
  },
  {
   "cell_type": "markdown",
   "id": "36f64fce-5037-4745-bf35-36a8289c12f0",
   "metadata": {},
   "source": [
    "Journey Description (no confidence):\n",
    "- S19 from Dietlikon at 13:25:00 -> Wallisellen at 13:28:00 \n",
    "- S14 from Wallisellen at 13:39:00 -> Zürich Oerlikon at 13:42:00 \n",
    "- IR13 from Zürich Oerlikon at 13:44:00 -> Zürich HB at 13:51:00 \n",
    "- IR35 from Zürich HB at 13:53:00 -> Zürich Altstetten at 13:58:00 "
   ]
  },
  {
   "cell_type": "markdown",
   "id": "381bb539-6b29-4428-a486-0d667ce387bf",
   "metadata": {},
   "source": [
    "And at **95% confidence**, we get this new route with two stops less."
   ]
  },
  {
   "cell_type": "markdown",
   "id": "59502c35-ffb6-41b6-839e-1198c2b8513a",
   "metadata": {},
   "source": [
    "Journey Description (95% confidence):\n",
    "- S19 from Dietlikon at 13:25:00 -> Wallisellen at 13:28:00 \n",
    "- S14 from Wallisellen at 13:39:00 -> Zürich Altstetten at 13:54:00 "
   ]
  },
  {
   "cell_type": "markdown",
   "id": "b84f397c-b648-4bc9-a673-89ecdcd2fcfa",
   "metadata": {},
   "source": [
    "The stops ats **Oerlikon** and **Zurich HB** were eliminated from the original no confidence route. We may conclude that this is our algorithm delay computation probability altering the results, as more stations naturally leads to more delay chances."
   ]
  },
  {
   "cell_type": "code",
   "execution_count": null,
   "id": "061048f3-f623-42f6-98e5-4c0af8f7c7bd",
   "metadata": {},
   "outputs": [],
   "source": []
  }
 ],
 "metadata": {
  "kernelspec": {
   "display_name": "Python 3 (ipykernel)",
   "language": "python",
   "name": "python3"
  },
  "language_info": {
   "codemirror_mode": {
    "name": "ipython",
    "version": 3
   },
   "file_extension": ".py",
   "mimetype": "text/x-python",
   "name": "python",
   "nbconvert_exporter": "python",
   "pygments_lexer": "ipython3",
   "version": "3.9.12"
  }
 },
 "nbformat": 4,
 "nbformat_minor": 5
}
