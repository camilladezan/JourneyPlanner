{
 "cells": [
  {
   "cell_type": "code",
   "execution_count": null,
   "id": "88dc1fe9-e88c-4196-84eb-0583eb3d3abd",
   "metadata": {},
   "outputs": [],
   "source": [
    "import pandas as pd"
   ]
  },
  {
   "cell_type": "code",
   "execution_count": null,
   "id": "86792948-759f-46bb-8023-479544cee011",
   "metadata": {},
   "outputs": [],
   "source": [
    "df = pd.read_csv(\"sbb_connections_friday_names.csv\")"
   ]
  },
  {
   "cell_type": "code",
   "execution_count": null,
   "id": "85486755-4270-4cfd-b0a2-686916f59fbf",
   "metadata": {},
   "outputs": [],
   "source": [
    "df.route_short_name.nunique()"
   ]
  },
  {
   "cell_type": "code",
   "execution_count": null,
   "id": "ebc59852-6d8c-4da5-9d32-5df23dc08f98",
   "metadata": {},
   "outputs": [],
   "source": [
    "df.arrival_station.nunique()"
   ]
  },
  {
   "cell_type": "code",
   "execution_count": null,
   "id": "190336d7-d6eb-4a3f-b50c-1dabbb3245af",
   "metadata": {},
   "outputs": [],
   "source": [
    "df_delays = pd.read_csv(\"delaysfin.csv\")"
   ]
  },
  {
   "cell_type": "code",
   "execution_count": null,
   "id": "64328739-01d4-4dc9-b88a-0f2887a18afe",
   "metadata": {},
   "outputs": [],
   "source": [
    "df_delays = df_delays.dropna(axis='rows')"
   ]
  },
  {
   "cell_type": "code",
   "execution_count": null,
   "id": "a16d7156-eeef-48d7-a505-e4b80cf24cde",
   "metadata": {},
   "outputs": [],
   "source": [
    "unique_values_df1 = set(zip(df_delays['haltestellen_name'], df_delays['arrival']))\n",
    "unique_values_df2 = set(zip(df['arrival_station'], df['arrival_time']))\n",
    "\n",
    "common_values = unique_values_df1.intersection(unique_values_df2)\n",
    "percentage = (len(common_values) / len(unique_values_df2)) * 100\n",
    "print(f\"Percentage of unique values in common: {percentage}%\")"
   ]
  },
  {
   "cell_type": "code",
   "execution_count": null,
   "id": "7698c763-1a30-4b49-adc1-c5037f991432",
   "metadata": {},
   "outputs": [],
   "source": [
    "df[\"produkt_id\"] = df[\"route_desc\"].replace({'B':'bus', 'S':'zug', 'IR': 'zug', 'IC':'zug','RE':'zug','EC':'zug','T':'tram'})"
   ]
  },
  {
   "cell_type": "code",
   "execution_count": null,
   "id": "7216161c-3761-4258-a8e2-ee895b41fc34",
   "metadata": {},
   "outputs": [],
   "source": [
    "print(df[\"produkt_id\"].unique())"
   ]
  },
  {
   "cell_type": "code",
   "execution_count": null,
   "id": "40ebeb54-546a-44ef-8081-a713b5571bc5",
   "metadata": {},
   "outputs": [],
   "source": [
    "print(df_delays[\"produkt_id\"].unique())"
   ]
  },
  {
   "cell_type": "code",
   "execution_count": null,
   "id": "42002c90-93a4-4ebe-8dcc-a3335b82f12b",
   "metadata": {},
   "outputs": [],
   "source": [
    "df_delays = df_delays.rename(columns={'arrival': 'arrival_time', 'haltestellen_name': 'arrival_station'})"
   ]
  },
  {
   "cell_type": "code",
   "execution_count": null,
   "id": "47c865f2-fe97-4c65-9452-539236e65d72",
   "metadata": {},
   "outputs": [],
   "source": [
    "merged_del_co = df.merge(df_delays, on=[\"produkt_id\", \"arrival_time\", \"arrival_station\"], how = \"outer\")\n",
    "merged_del_co"
   ]
  },
  {
   "cell_type": "code",
   "execution_count": null,
   "id": "6b4b4eca-57e7-4c92-b8f3-1dde922b303f",
   "metadata": {},
   "outputs": [],
   "source": [
    "merged_del_co = merged_del_co.dropna(axis='rows', subset= ['route_id'])\n",
    "merged_del_co "
   ]
  },
  {
   "cell_type": "code",
   "execution_count": null,
   "id": "96a0040d-49dc-416f-9f91-3037b414a9f6",
   "metadata": {},
   "outputs": [],
   "source": [
    "merged_del_co = merged_del_co.fillna(0)\n",
    "merged_del_co "
   ]
  },
  {
   "cell_type": "code",
   "execution_count": null,
   "id": "07cfef1c-b40f-485b-896e-8728fc152a70",
   "metadata": {},
   "outputs": [],
   "source": [
    "merged_del_co['90_perc_arrival'] = merged_del_co['arrival_time'] + pd.to_timedelta(merged_del_co['90thPercentile'], unit='s')\n",
    "merged_del_co['90_perc_arrival'] = merged_del_co['90_perc_arrival'].astype(str).str[7:]\n",
    "\n",
    "merged_del_co['95_perc_arrival'] = merged_del_co['arrival_time'] + pd.to_timedelta(merged_del_co['95thPercentile'], unit='s')\n",
    "merged_del_co['95_perc_arrival'] = merged_del_co['95_perc_arrival'].astype(str).str[7:]\n",
    "\n",
    "merged_del_co['85_perc_arrival'] = merged_del_co['arrival_time'] + pd.to_timedelta(merged_del_co['85thPercentile'], unit='s')\n",
    "merged_del_co['85_perc_arrival'] = merged_del_co['85_perc_arrival'].astype(str).str[7:]\n",
    "\n",
    "merged_del_co['80_perc_arrival'] = merged_del_co['arrival_time'] + pd.to_timedelta(merged_del_co['80thPercentile'], unit='s')\n",
    "merged_del_co['80_perc_arrival'] = merged_del_co['80_perc_arrival'].astype(str).str[7:]\n",
    "\n",
    "merged_del_co['75_perc_arrival'] = merged_del_co['arrival_time'] + pd.to_timedelta(merged_del_co['75thPercentile'], unit='s')\n",
    "merged_del_co['75_perc_arrival'] = merged_del_co['75_perc_arrival'].astype(str).str[7:]\n",
    "\n",
    "merged_del_co['70_perc_arrival'] = merged_del_co['arrival_time'] + pd.to_timedelta(merged_del_co['70thPercentile'], unit='s')\n",
    "merged_del_co['70_perc_arrival'] = merged_del_co['70_perc_arrival'].astype(str).str[7:]\n",
    "\n",
    "merged_del_co['65_perc_arrival'] = merged_del_co['arrival_time'] + pd.to_timedelta(merged_del_co['65thPercentile'], unit='s')\n",
    "merged_del_co['65_perc_arrival'] = merged_del_co['65_perc_arrival'].astype(str).str[7:]\n",
    "\n",
    "merged_del_co['60_perc_arrival'] = merged_del_co['arrival_time'] + pd.to_timedelta(merged_del_co['60thPercentile'], unit='s')\n",
    "merged_del_co['60_perc_arrival'] = merged_del_co['60_perc_arrival'].astype(str).str[7:]\n",
    "\n",
    "merged_del_co['55_perc_arrival'] = merged_del_co['arrival_time'] + pd.to_timedelta(merged_del_co['55thPercentile'], unit='s')\n",
    "merged_del_co['55_perc_arrival'] = merged_del_co['55_perc_arrival'].astype(str).str[7:]\n",
    "\n",
    "merged_del_co['50_perc_arrival'] = merged_del_co['arrival_time'] + pd.to_timedelta(merged_del_co['50thPercentile'], unit='s')\n",
    "merged_del_co['50_perc_arrival'] = merged_del_co['50_perc_arrival'].astype(str).str[7:]\n",
    "\n",
    "\n",
    "merged_del_co"
   ]
  },
  {
   "cell_type": "code",
   "execution_count": null,
   "id": "fafbf454-3ff5-4677-9e6b-40dcb207187e",
   "metadata": {},
   "outputs": [],
   "source": [
    "merged_del_co.to_csv(\"sbb_connections_friday_perc.csv\")  "
   ]
  }
 ],
 "metadata": {
  "kernelspec": {
   "display_name": "Python 3 (ipykernel)",
   "language": "python",
   "name": "python3"
  },
  "language_info": {
   "codemirror_mode": {
    "name": "ipython",
    "version": 3
   },
   "file_extension": ".py",
   "mimetype": "text/x-python",
   "name": "python",
   "nbconvert_exporter": "python",
   "pygments_lexer": "ipython3",
   "version": "3.9.12"
  }
 },
 "nbformat": 4,
 "nbformat_minor": 5
}
